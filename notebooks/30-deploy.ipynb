{
 "cells": [
  {
   "cell_type": "markdown",
   "id": "e297dfeb-48f4-45f4-aaef-d612bb04cb49",
   "metadata": {},
   "source": [
    "# imports"
   ]
  },
  {
   "cell_type": "code",
   "execution_count": 1,
   "id": "1487fe75-c1e6-426d-ae92-31911890abd8",
   "metadata": {
    "execution": {
     "iopub.execute_input": "2025-06-04T00:52:16.485356Z",
     "iopub.status.busy": "2025-06-04T00:52:16.485083Z",
     "iopub.status.idle": "2025-06-04T00:52:18.490885Z",
     "shell.execute_reply": "2025-06-04T00:52:18.490033Z",
     "shell.execute_reply.started": "2025-06-04T00:52:16.485327Z"
    }
   },
   "outputs": [
    {
     "name": "stdout",
     "output_type": "stream",
     "text": [
      "sagemaker.config INFO - Not applying SDK defaults from location: /etc/xdg/sagemaker/config.yaml\n",
      "sagemaker.config INFO - Not applying SDK defaults from location: /home/sagemaker-user/.config/sagemaker/config.yaml\n"
     ]
    }
   ],
   "source": [
    "import sagemaker"
   ]
  },
  {
   "cell_type": "markdown",
   "id": "9fd6328f-d9a3-4609-80cd-83643eb5af67",
   "metadata": {},
   "source": [
    "# Constants"
   ]
  },
  {
   "cell_type": "code",
   "execution_count": 2,
   "id": "856b8299-04d5-44cd-88b4-df71cf671668",
   "metadata": {
    "execution": {
     "iopub.execute_input": "2025-06-04T00:52:18.497145Z",
     "iopub.status.busy": "2025-06-04T00:52:18.495755Z",
     "iopub.status.idle": "2025-06-04T00:52:18.500607Z",
     "shell.execute_reply": "2025-06-04T00:52:18.499854Z",
     "shell.execute_reply.started": "2025-06-04T00:52:18.497120Z"
    }
   },
   "outputs": [],
   "source": [
    "MODEL_DATA = \"s3://amazon-sagemaker-ai-by-example/output/linear-learner-2025-06-04-00-43-28-938/output/model.tar.gz\""
   ]
  },
  {
   "cell_type": "markdown",
   "id": "6474d192-7dc7-46cc-91d0-f565cc7cc142",
   "metadata": {
    "execution": {
     "iopub.execute_input": "2025-06-04T00:51:34.283228Z",
     "iopub.status.busy": "2025-06-04T00:51:34.282737Z",
     "iopub.status.idle": "2025-06-04T00:51:34.286702Z",
     "shell.execute_reply": "2025-06-04T00:51:34.285632Z",
     "shell.execute_reply.started": "2025-06-04T00:51:34.283198Z"
    }
   },
   "source": [
    "# Setup"
   ]
  },
  {
   "cell_type": "code",
   "execution_count": 3,
   "id": "de676ee4-5055-47c0-bc97-df7ff0590735",
   "metadata": {
    "execution": {
     "iopub.execute_input": "2025-06-04T00:52:18.504194Z",
     "iopub.status.busy": "2025-06-04T00:52:18.503983Z",
     "iopub.status.idle": "2025-06-04T00:52:18.825749Z",
     "shell.execute_reply": "2025-06-04T00:52:18.825068Z",
     "shell.execute_reply.started": "2025-06-04T00:52:18.504175Z"
    }
   },
   "outputs": [],
   "source": [
    "sess = sagemaker.Session()\n",
    "region = sess.boto_region_name\n",
    "container = sagemaker.image_uris.retrieve(region=region, framework=\"linear-learner\")\n",
    "role = sagemaker.get_execution_role()\n",
    "model = sagemaker.model.Model(image_uri=container, model_data=MODEL_DATA, role=role)"
   ]
  },
  {
   "cell_type": "markdown",
   "id": "0f67cfb1-eb44-4375-b712-653c1684660e",
   "metadata": {},
   "source": [
    "# Register"
   ]
  },
  {
   "cell_type": "code",
   "execution_count": null,
   "id": "979fc88e-1338-4d06-8fce-b45cb4b45c6d",
   "metadata": {},
   "outputs": [],
   "source": [
    "# TODO"
   ]
  }
 ],
 "metadata": {
  "kernelspec": {
   "display_name": "Python 3 (ipykernel)",
   "language": "python",
   "name": "python3"
  },
  "language_info": {
   "codemirror_mode": {
    "name": "ipython",
    "version": 3
   },
   "file_extension": ".py",
   "mimetype": "text/x-python",
   "name": "python",
   "nbconvert_exporter": "python",
   "pygments_lexer": "ipython3",
   "version": "3.12.9"
  }
 },
 "nbformat": 4,
 "nbformat_minor": 5
}
