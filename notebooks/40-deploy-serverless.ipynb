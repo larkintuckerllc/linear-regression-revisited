{
 "cells": [
  {
   "cell_type": "markdown",
   "id": "5a7bccc1-7c59-4314-9d23-40b2282c3687",
   "metadata": {},
   "source": [
    "# Imports"
   ]
  },
  {
   "cell_type": "code",
   "execution_count": 1,
   "id": "09922369-3ec7-4603-a5f6-ac720eb8272a",
   "metadata": {
    "execution": {
     "iopub.execute_input": "2025-06-07T19:06:12.778905Z",
     "iopub.status.busy": "2025-06-07T19:06:12.778604Z",
     "iopub.status.idle": "2025-06-07T19:06:14.827684Z",
     "shell.execute_reply": "2025-06-07T19:06:14.826436Z",
     "shell.execute_reply.started": "2025-06-07T19:06:12.778883Z"
    }
   },
   "outputs": [
    {
     "name": "stdout",
     "output_type": "stream",
     "text": [
      "sagemaker.config INFO - Not applying SDK defaults from location: /etc/xdg/sagemaker/config.yaml\n",
      "sagemaker.config INFO - Not applying SDK defaults from location: /home/sagemaker-user/.config/sagemaker/config.yaml\n"
     ]
    }
   ],
   "source": [
    "import boto3\n",
    "region = boto3.Session().region_name\n",
    "client = boto3.client(\"sagemaker\", region_name=region)"
   ]
  },
  {
   "cell_type": "markdown",
   "id": "345d5ec4-faca-4eb4-9cb1-84bf7b292dd4",
   "metadata": {},
   "source": [
    "# Constants"
   ]
  },
  {
   "cell_type": "code",
   "execution_count": 2,
   "id": "5f232048-ff3c-48c6-aa5c-e14f2adf72bd",
   "metadata": {
    "execution": {
     "iopub.execute_input": "2025-06-07T19:06:14.832850Z",
     "iopub.status.busy": "2025-06-07T19:06:14.832617Z",
     "iopub.status.idle": "2025-06-07T19:06:14.836527Z",
     "shell.execute_reply": "2025-06-07T19:06:14.835735Z",
     "shell.execute_reply.started": "2025-06-07T19:06:14.832830Z"
    }
   },
   "outputs": [],
   "source": [
    "ENDPOINT_NAME = \"linear-learner\"\n",
    "MODEL_DATA = \"s3://sagemaker-us-east-1-867344447984/linear-regression/output/linear-learner-2025-06-05-18-20-51-753/output/model.tar.gz\"\n",
    "MODEL_NAME = \"linear-learner-python-sdk\"\n",
    "IMAGE_URI = \"382416733822.dkr.ecr.us-east-1.amazonaws.com/linear-learner:1\"\n",
    "ROLE = \"arn:aws:iam::867344447984:role/AmazonSageMaker-ExecutionRole-linear-regression\""
   ]
  },
  {
   "cell_type": "markdown",
   "id": "816a2496-aed8-4dcc-8c14-ee592164c1b0",
   "metadata": {},
   "source": [
    "# Deploy"
   ]
  },
  {
   "cell_type": "code",
   "execution_count": 4,
   "id": "d8281e0a-3352-47ec-b83f-4a7bdeef6c07",
   "metadata": {
    "execution": {
     "iopub.execute_input": "2025-06-07T19:06:14.850047Z",
     "iopub.status.busy": "2025-06-07T19:06:14.849721Z",
     "iopub.status.idle": "2025-06-07T19:06:15.635978Z",
     "shell.execute_reply": "2025-06-07T19:06:15.635208Z",
     "shell.execute_reply.started": "2025-06-07T19:06:14.850019Z"
    }
   },
   "outputs": [],
   "source": [
    "client.create_model(\n",
    "    ExecutionRoleArn=ROLE,\n",
    "    ModelName=MODEL_NAME,\n",
    "    PrimaryContainer={\n",
    "        \"Image\": IMAGE_URI,\n",
    "        \"ModelDataUrl\": MODEL_DATA\n",
    "    }\n",
    ");"
   ]
  },
  {
   "cell_type": "code",
   "execution_count": 7,
   "id": "9bd9cefe-c13e-43c5-9b86-4ac863d01619",
   "metadata": {
    "execution": {
     "iopub.execute_input": "2025-06-07T19:06:33.254442Z",
     "iopub.status.busy": "2025-06-07T19:06:33.253789Z",
     "iopub.status.idle": "2025-06-07T19:06:33.628505Z",
     "shell.execute_reply": "2025-06-07T19:06:33.627760Z",
     "shell.execute_reply.started": "2025-06-07T19:06:33.254415Z"
    }
   },
   "outputs": [
    {
     "data": {
      "text/plain": [
       "{'EndpointConfigArn': 'arn:aws:sagemaker:us-east-1:867344447984:endpoint-config/linear-learner',\n",
       " 'ResponseMetadata': {'RequestId': '8c95c129-0150-4fd4-b539-de881e024376',\n",
       "  'HTTPStatusCode': 200,\n",
       "  'HTTPHeaders': {'x-amzn-requestid': '8c95c129-0150-4fd4-b539-de881e024376',\n",
       "   'content-type': 'application/x-amz-json-1.1',\n",
       "   'content-length': '95',\n",
       "   'date': 'Sat, 07 Jun 2025 19:06:33 GMT'},\n",
       "  'RetryAttempts': 0}}"
      ]
     },
     "execution_count": 7,
     "metadata": {},
     "output_type": "execute_result"
    }
   ],
   "source": [
    "client.create_endpoint_config(\n",
    "   EndpointConfigName=ENDPOINT_NAME,\n",
    "   ProductionVariants=[\n",
    "        {\n",
    "            \"ModelName\": MODEL_NAME,\n",
    "            \"VariantName\": \"AllTraffic\",\n",
    "            \"ServerlessConfig\": {\n",
    "                \"MemorySizeInMB\": 1024,\n",
    "                \"MaxConcurrency\": 1,            }\n",
    "        } \n",
    "    ]\n",
    ")"
   ]
  },
  {
   "cell_type": "code",
   "execution_count": 8,
   "id": "deaf3671-530e-4edb-b21e-f71eeabcb88f",
   "metadata": {
    "execution": {
     "iopub.execute_input": "2025-06-07T19:06:39.269803Z",
     "iopub.status.busy": "2025-06-07T19:06:39.269216Z",
     "iopub.status.idle": "2025-06-07T19:06:39.967294Z",
     "shell.execute_reply": "2025-06-07T19:06:39.966559Z",
     "shell.execute_reply.started": "2025-06-07T19:06:39.269773Z"
    }
   },
   "outputs": [
    {
     "data": {
      "text/plain": [
       "{'EndpointArn': 'arn:aws:sagemaker:us-east-1:867344447984:endpoint/linear-learner',\n",
       " 'ResponseMetadata': {'RequestId': '5ef785db-fec9-4a3e-a477-46cda9c01b80',\n",
       "  'HTTPStatusCode': 200,\n",
       "  'HTTPHeaders': {'x-amzn-requestid': '5ef785db-fec9-4a3e-a477-46cda9c01b80',\n",
       "   'content-type': 'application/x-amz-json-1.1',\n",
       "   'content-length': '82',\n",
       "   'date': 'Sat, 07 Jun 2025 19:06:39 GMT'},\n",
       "  'RetryAttempts': 0}}"
      ]
     },
     "execution_count": 8,
     "metadata": {},
     "output_type": "execute_result"
    }
   ],
   "source": [
    "client.create_endpoint(\n",
    "    EndpointName=ENDPOINT_NAME,\n",
    "    EndpointConfigName=ENDPOINT_NAME\n",
    ")"
   ]
  }
 ],
 "metadata": {
  "kernelspec": {
   "display_name": "Python 3 (ipykernel)",
   "language": "python",
   "name": "python3"
  },
  "language_info": {
   "codemirror_mode": {
    "name": "ipython",
    "version": 3
   },
   "file_extension": ".py",
   "mimetype": "text/x-python",
   "name": "python",
   "nbconvert_exporter": "python",
   "pygments_lexer": "ipython3",
   "version": "3.12.9"
  }
 },
 "nbformat": 4,
 "nbformat_minor": 5
}
