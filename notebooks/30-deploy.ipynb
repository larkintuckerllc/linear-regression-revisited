{
 "cells": [
  {
   "cell_type": "markdown",
   "id": "e297dfeb-48f4-45f4-aaef-d612bb04cb49",
   "metadata": {},
   "source": [
    "# imports"
   ]
  },
  {
   "cell_type": "code",
   "execution_count": 1,
   "id": "1487fe75-c1e6-426d-ae92-31911890abd8",
   "metadata": {
    "execution": {
     "iopub.execute_input": "2025-06-04T10:54:00.234299Z",
     "iopub.status.busy": "2025-06-04T10:54:00.234019Z",
     "iopub.status.idle": "2025-06-04T10:54:03.698558Z",
     "shell.execute_reply": "2025-06-04T10:54:03.697522Z",
     "shell.execute_reply.started": "2025-06-04T10:54:00.234272Z"
    }
   },
   "outputs": [
    {
     "name": "stdout",
     "output_type": "stream",
     "text": [
      "sagemaker.config INFO - Not applying SDK defaults from location: /etc/xdg/sagemaker/config.yaml\n",
      "sagemaker.config INFO - Not applying SDK defaults from location: /home/sagemaker-user/.config/sagemaker/config.yaml\n"
     ]
    }
   ],
   "source": [
    "import sagemaker"
   ]
  },
  {
   "cell_type": "markdown",
   "id": "9fd6328f-d9a3-4609-80cd-83643eb5af67",
   "metadata": {},
   "source": [
    "# Constants"
   ]
  },
  {
   "cell_type": "code",
   "execution_count": 2,
   "id": "856b8299-04d5-44cd-88b4-df71cf671668",
   "metadata": {
    "execution": {
     "iopub.execute_input": "2025-06-04T10:54:03.702153Z",
     "iopub.status.busy": "2025-06-04T10:54:03.701875Z",
     "iopub.status.idle": "2025-06-04T10:54:03.705107Z",
     "shell.execute_reply": "2025-06-04T10:54:03.704600Z",
     "shell.execute_reply.started": "2025-06-04T10:54:03.702133Z"
    }
   },
   "outputs": [],
   "source": [
    "MODEL_DATA = \"s3://amazon-sagemaker-ai-by-example/output/linear-learner-2025-06-04-00-43-28-938/output/model.tar.gz\""
   ]
  },
  {
   "cell_type": "markdown",
   "id": "6474d192-7dc7-46cc-91d0-f565cc7cc142",
   "metadata": {
    "execution": {
     "iopub.execute_input": "2025-06-04T00:51:34.283228Z",
     "iopub.status.busy": "2025-06-04T00:51:34.282737Z",
     "iopub.status.idle": "2025-06-04T00:51:34.286702Z",
     "shell.execute_reply": "2025-06-04T00:51:34.285632Z",
     "shell.execute_reply.started": "2025-06-04T00:51:34.283198Z"
    }
   },
   "source": [
    "# Setup"
   ]
  },
  {
   "cell_type": "code",
   "execution_count": 3,
   "id": "de676ee4-5055-47c0-bc97-df7ff0590735",
   "metadata": {
    "execution": {
     "iopub.execute_input": "2025-06-04T10:54:03.708386Z",
     "iopub.status.busy": "2025-06-04T10:54:03.708187Z",
     "iopub.status.idle": "2025-06-04T10:54:04.044644Z",
     "shell.execute_reply": "2025-06-04T10:54:04.043883Z",
     "shell.execute_reply.started": "2025-06-04T10:54:03.708368Z"
    }
   },
   "outputs": [],
   "source": [
    "sess = sagemaker.Session()\n",
    "region = sess.boto_region_name\n",
    "container = sagemaker.image_uris.retrieve(region=region, framework=\"linear-learner\")\n",
    "role = sagemaker.get_execution_role()\n",
    "model = sagemaker.model.Model(image_uri=container, model_data=MODEL_DATA, role=role)"
   ]
  },
  {
   "cell_type": "markdown",
   "id": "0f67cfb1-eb44-4375-b712-653c1684660e",
   "metadata": {},
   "source": [
    "# Deploy"
   ]
  },
  {
   "cell_type": "code",
   "execution_count": 4,
   "id": "979fc88e-1338-4d06-8fce-b45cb4b45c6d",
   "metadata": {
    "execution": {
     "iopub.execute_input": "2025-06-04T10:54:04.050933Z",
     "iopub.status.busy": "2025-06-04T10:54:04.050690Z",
     "iopub.status.idle": "2025-06-04T10:58:36.872157Z",
     "shell.execute_reply": "2025-06-04T10:58:36.871379Z",
     "shell.execute_reply.started": "2025-06-04T10:54:04.050913Z"
    }
   },
   "outputs": [
    {
     "name": "stdout",
     "output_type": "stream",
     "text": [
      "--------!CPU times: user 191 ms, sys: 54.1 ms, total: 245 ms\n",
      "Wall time: 4min 32s\n"
     ]
    }
   ],
   "source": [
    "%%time\n",
    "model_predictor = model.deploy(initial_instance_count=1, instance_type=\"ml.c4.xlarge\")"
   ]
  }
 ],
 "metadata": {
  "kernelspec": {
   "display_name": "Python 3 (ipykernel)",
   "language": "python",
   "name": "python3"
  },
  "language_info": {
   "codemirror_mode": {
    "name": "ipython",
    "version": 3
   },
   "file_extension": ".py",
   "mimetype": "text/x-python",
   "name": "python",
   "nbconvert_exporter": "python",
   "pygments_lexer": "ipython3",
   "version": "3.12.9"
  }
 },
 "nbformat": 4,
 "nbformat_minor": 5
}
