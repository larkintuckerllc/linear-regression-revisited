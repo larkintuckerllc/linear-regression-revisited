{
 "cells": [
  {
   "cell_type": "markdown",
   "id": "5a7bccc1-7c59-4314-9d23-40b2282c3687",
   "metadata": {},
   "source": [
    "# Imports"
   ]
  },
  {
   "cell_type": "code",
   "execution_count": 1,
   "id": "09922369-3ec7-4603-a5f6-ac720eb8272a",
   "metadata": {
    "execution": {
     "iopub.execute_input": "2025-06-07T14:44:10.134612Z",
     "iopub.status.busy": "2025-06-07T14:44:10.134214Z",
     "iopub.status.idle": "2025-06-07T14:44:12.172184Z",
     "shell.execute_reply": "2025-06-07T14:44:12.171433Z",
     "shell.execute_reply.started": "2025-06-07T14:44:10.134579Z"
    }
   },
   "outputs": [
    {
     "name": "stdout",
     "output_type": "stream",
     "text": [
      "sagemaker.config INFO - Not applying SDK defaults from location: /etc/xdg/sagemaker/config.yaml\n",
      "sagemaker.config INFO - Not applying SDK defaults from location: /home/sagemaker-user/.config/sagemaker/config.yaml\n"
     ]
    }
   ],
   "source": [
    "from sagemaker.compute_resource_requirements.resource_requirements import ResourceRequirements\n",
    "from sagemaker.model import Model"
   ]
  },
  {
   "cell_type": "markdown",
   "id": "345d5ec4-faca-4eb4-9cb1-84bf7b292dd4",
   "metadata": {},
   "source": [
    "# Constants"
   ]
  },
  {
   "cell_type": "code",
   "execution_count": 2,
   "id": "5f232048-ff3c-48c6-aa5c-e14f2adf72bd",
   "metadata": {
    "execution": {
     "iopub.execute_input": "2025-06-07T14:44:12.182055Z",
     "iopub.status.busy": "2025-06-07T14:44:12.181820Z",
     "iopub.status.idle": "2025-06-07T14:44:12.190015Z",
     "shell.execute_reply": "2025-06-07T14:44:12.189212Z",
     "shell.execute_reply.started": "2025-06-07T14:44:12.182033Z"
    }
   },
   "outputs": [],
   "source": [
    "ENDPOINT_NAME = \"linear-learner\"\n",
    "MODEL_DATA = \"s3://sagemaker-us-east-1-867344447984/linear-regression/output/linear-learner-2025-06-05-18-20-51-753/output/model.tar.gz\"\n",
    "MODEL_NAME = \"linear-learner-python-sdk\"\n",
    "IMAGE_URI = \"382416733822.dkr.ecr.us-east-1.amazonaws.com/linear-learner:1\"\n",
    "ROLE = \"arn:aws:iam::867344447984:role/AmazonSageMaker-ExecutionRole-linear-regression\""
   ]
  },
  {
   "cell_type": "markdown",
   "id": "027ab1b0-c032-4bae-97a3-ef8f888a1d31",
   "metadata": {},
   "source": [
    "# Configure"
   ]
  },
  {
   "cell_type": "code",
   "execution_count": 3,
   "id": "71fa5b72-7057-4a32-ba09-4d2237ddf9a2",
   "metadata": {
    "execution": {
     "iopub.execute_input": "2025-06-07T14:44:12.194923Z",
     "iopub.status.busy": "2025-06-07T14:44:12.194596Z",
     "iopub.status.idle": "2025-06-07T14:44:12.199106Z",
     "shell.execute_reply": "2025-06-07T14:44:12.198255Z",
     "shell.execute_reply.started": "2025-06-07T14:44:12.194892Z"
    }
   },
   "outputs": [],
   "source": [
    "model = Model(\n",
    "    image_uri=IMAGE_URI,\n",
    "    model_data=MODEL_DATA,\n",
    "    name=MODEL_NAME,\n",
    "    role=ROLE,\n",
    ")"
   ]
  },
  {
   "cell_type": "markdown",
   "id": "816a2496-aed8-4dcc-8c14-ee592164c1b0",
   "metadata": {},
   "source": [
    "# Deploy"
   ]
  },
  {
   "cell_type": "code",
   "execution_count": 4,
   "id": "9bd9cefe-c13e-43c5-9b86-4ac863d01619",
   "metadata": {
    "execution": {
     "iopub.execute_input": "2025-06-07T14:44:12.204593Z",
     "iopub.status.busy": "2025-06-07T14:44:12.204285Z",
     "iopub.status.idle": "2025-06-07T14:47:44.899157Z",
     "shell.execute_reply": "2025-06-07T14:47:44.898291Z",
     "shell.execute_reply.started": "2025-06-07T14:44:12.204564Z"
    }
   },
   "outputs": [
    {
     "name": "stderr",
     "output_type": "stream",
     "text": [
      "Using already existing model: linear-learner-python-sdk\n"
     ]
    },
    {
     "name": "stdout",
     "output_type": "stream",
     "text": [
      "------!"
     ]
    }
   ],
   "source": [
    "resources = ResourceRequirements(\n",
    "    requests={\n",
    "        \"num_cpus\": 1,\n",
    "        \"memory\": 128,\n",
    "        \"copies\": 1,\n",
    "    }\n",
    ")\n",
    "model.deploy(\n",
    "    endpoint_name=ENDPOINT_NAME,\n",
    "    initial_instance_count=1,\n",
    "    instance_type=\"ml.c6i.xlarge\",\n",
    "    resources=resources,\n",
    ")"
   ]
  }
 ],
 "metadata": {
  "kernelspec": {
   "display_name": "Python 3 (ipykernel)",
   "language": "python",
   "name": "python3"
  },
  "language_info": {
   "codemirror_mode": {
    "name": "ipython",
    "version": 3
   },
   "file_extension": ".py",
   "mimetype": "text/x-python",
   "name": "python",
   "nbconvert_exporter": "python",
   "pygments_lexer": "ipython3",
   "version": "3.12.9"
  }
 },
 "nbformat": 4,
 "nbformat_minor": 5
}
