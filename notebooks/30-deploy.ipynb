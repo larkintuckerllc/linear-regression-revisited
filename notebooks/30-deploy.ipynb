{
 "cells": [
  {
   "cell_type": "markdown",
   "id": "e297dfeb-48f4-45f4-aaef-d612bb04cb49",
   "metadata": {},
   "source": [
    "# imports"
   ]
  },
  {
   "cell_type": "code",
   "execution_count": 1,
   "id": "1487fe75-c1e6-426d-ae92-31911890abd8",
   "metadata": {
    "execution": {
     "iopub.execute_input": "2025-06-05T18:36:53.799237Z",
     "iopub.status.busy": "2025-06-05T18:36:53.799055Z",
     "iopub.status.idle": "2025-06-05T18:36:55.776969Z",
     "shell.execute_reply": "2025-06-05T18:36:55.776201Z",
     "shell.execute_reply.started": "2025-06-05T18:36:53.799219Z"
    }
   },
   "outputs": [
    {
     "name": "stdout",
     "output_type": "stream",
     "text": [
      "sagemaker.config INFO - Not applying SDK defaults from location: /etc/xdg/sagemaker/config.yaml\n",
      "sagemaker.config INFO - Not applying SDK defaults from location: /home/sagemaker-user/.config/sagemaker/config.yaml\n"
     ]
    }
   ],
   "source": [
    "import sagemaker"
   ]
  },
  {
   "cell_type": "markdown",
   "id": "9fd6328f-d9a3-4609-80cd-83643eb5af67",
   "metadata": {},
   "source": [
    "# Constants"
   ]
  },
  {
   "cell_type": "code",
   "execution_count": 2,
   "id": "856b8299-04d5-44cd-88b4-df71cf671668",
   "metadata": {
    "execution": {
     "iopub.execute_input": "2025-06-05T18:36:55.781124Z",
     "iopub.status.busy": "2025-06-05T18:36:55.780696Z",
     "iopub.status.idle": "2025-06-05T18:36:55.785211Z",
     "shell.execute_reply": "2025-06-05T18:36:55.784318Z",
     "shell.execute_reply.started": "2025-06-05T18:36:55.781092Z"
    }
   },
   "outputs": [],
   "source": [
    "MODEL_DATA = \"s3://sagemaker-us-east-1-867344447984/linear-regression/output/linear-learner-2025-06-05-18-20-51-753/output/model.tar.gz\""
   ]
  },
  {
   "cell_type": "markdown",
   "id": "6474d192-7dc7-46cc-91d0-f565cc7cc142",
   "metadata": {
    "execution": {
     "iopub.execute_input": "2025-06-04T00:51:34.283228Z",
     "iopub.status.busy": "2025-06-04T00:51:34.282737Z",
     "iopub.status.idle": "2025-06-04T00:51:34.286702Z",
     "shell.execute_reply": "2025-06-04T00:51:34.285632Z",
     "shell.execute_reply.started": "2025-06-04T00:51:34.283198Z"
    }
   },
   "source": [
    "# Setup"
   ]
  },
  {
   "cell_type": "code",
   "execution_count": 3,
   "id": "de676ee4-5055-47c0-bc97-df7ff0590735",
   "metadata": {
    "execution": {
     "iopub.execute_input": "2025-06-05T18:36:55.790331Z",
     "iopub.status.busy": "2025-06-05T18:36:55.790001Z",
     "iopub.status.idle": "2025-06-05T18:36:56.169057Z",
     "shell.execute_reply": "2025-06-05T18:36:56.168247Z",
     "shell.execute_reply.started": "2025-06-05T18:36:55.790302Z"
    }
   },
   "outputs": [],
   "source": [
    "sess = sagemaker.Session()\n",
    "region = sess.boto_region_name\n",
    "container = sagemaker.image_uris.retrieve(region=region, framework=\"linear-learner\")\n",
    "role = sagemaker.get_execution_role()\n",
    "model = sagemaker.model.Model(image_uri=container, model_data=MODEL_DATA, role=role)"
   ]
  },
  {
   "cell_type": "markdown",
   "id": "bde35d3e-ffd8-41be-80fe-6acbed01c782",
   "metadata": {},
   "source": [
    "# Model Container"
   ]
  },
  {
   "cell_type": "code",
   "execution_count": 4,
   "id": "9ec3f9e8-cb90-40a8-97d7-8393986f1cad",
   "metadata": {
    "execution": {
     "iopub.execute_input": "2025-06-05T18:36:56.176684Z",
     "iopub.status.busy": "2025-06-05T18:36:56.176419Z",
     "iopub.status.idle": "2025-06-05T18:36:56.182033Z",
     "shell.execute_reply": "2025-06-05T18:36:56.181196Z",
     "shell.execute_reply.started": "2025-06-05T18:36:56.176636Z"
    }
   },
   "outputs": [
    {
     "name": "stdout",
     "output_type": "stream",
     "text": [
      "382416733822.dkr.ecr.us-east-1.amazonaws.com/linear-learner:1\n"
     ]
    }
   ],
   "source": [
    "print(container)"
   ]
  },
  {
   "cell_type": "markdown",
   "id": "0f67cfb1-eb44-4375-b712-653c1684660e",
   "metadata": {},
   "source": [
    "# Deploy"
   ]
  },
  {
   "cell_type": "code",
   "execution_count": null,
   "id": "979fc88e-1338-4d06-8fce-b45cb4b45c6d",
   "metadata": {
    "execution": {
     "iopub.execute_input": "2025-06-05T18:39:12.221204Z",
     "iopub.status.busy": "2025-06-05T18:39:12.220920Z"
    }
   },
   "outputs": [
    {
     "name": "stdout",
     "output_type": "stream",
     "text": [
      "-------"
     ]
    }
   ],
   "source": [
    "%%time\n",
    "model_predictor = model.deploy(initial_instance_count=1, instance_type=\"ml.c4.xlarge\")"
   ]
  }
 ],
 "metadata": {
  "kernelspec": {
   "display_name": "Python 3 (ipykernel)",
   "language": "python",
   "name": "python3"
  },
  "language_info": {
   "codemirror_mode": {
    "name": "ipython",
    "version": 3
   },
   "file_extension": ".py",
   "mimetype": "text/x-python",
   "name": "python",
   "nbconvert_exporter": "python",
   "pygments_lexer": "ipython3",
   "version": "3.12.9"
  }
 },
 "nbformat": 4,
 "nbformat_minor": 5
}
