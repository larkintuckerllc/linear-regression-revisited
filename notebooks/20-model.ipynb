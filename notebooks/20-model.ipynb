{
 "cells": [
  {
   "cell_type": "markdown",
   "id": "3375f7b9-5baa-464f-929e-b4cf6ff1fbc6",
   "metadata": {},
   "source": [
    "# import"
   ]
  },
  {
   "cell_type": "code",
   "execution_count": 1,
   "id": "8384ab8f-037b-4347-908f-a4415de3dfad",
   "metadata": {
    "execution": {
     "iopub.execute_input": "2025-06-05T18:20:48.668767Z",
     "iopub.status.busy": "2025-06-05T18:20:48.668047Z",
     "iopub.status.idle": "2025-06-05T18:20:51.303431Z",
     "shell.execute_reply": "2025-06-05T18:20:51.302439Z",
     "shell.execute_reply.started": "2025-06-05T18:20:48.668676Z"
    }
   },
   "outputs": [
    {
     "name": "stdout",
     "output_type": "stream",
     "text": [
      "sagemaker.config INFO - Not applying SDK defaults from location: /etc/xdg/sagemaker/config.yaml\n",
      "sagemaker.config INFO - Not applying SDK defaults from location: /home/sagemaker-user/.config/sagemaker/config.yaml\n"
     ]
    }
   ],
   "source": [
    "import sagemaker"
   ]
  },
  {
   "cell_type": "markdown",
   "id": "8178638c-8ba8-4eb9-8193-95f705cd57c4",
   "metadata": {},
   "source": [
    "# Constants"
   ]
  },
  {
   "cell_type": "code",
   "execution_count": 2,
   "id": "010e4eae-389a-4cb9-9653-6d3379c946ec",
   "metadata": {
    "execution": {
     "iopub.execute_input": "2025-06-05T18:20:51.309505Z",
     "iopub.status.busy": "2025-06-05T18:20:51.309283Z",
     "iopub.status.idle": "2025-06-05T18:20:51.316022Z",
     "shell.execute_reply": "2025-06-05T18:20:51.315013Z",
     "shell.execute_reply.started": "2025-06-05T18:20:51.309485Z"
    }
   },
   "outputs": [],
   "source": [
    "BUCKET = \"sagemaker-us-east-1-867344447984\"\n",
    "OUTPUT_PATH = f\"s3://{BUCKET}/linear-regression/output\"\n",
    "TEST_PATH = f\"s3://{BUCKET}/linear-regression/data/test\"\n",
    "TRAIN_PATH = f\"s3://{BUCKET}/linear-regression/data/train\"\n",
    "VALIDATION_PATH = f\"s3://{BUCKET}/linear-regression/data/validation\""
   ]
  },
  {
   "cell_type": "markdown",
   "id": "454548aa-6197-49b2-aa7e-565d05dccefa",
   "metadata": {},
   "source": [
    "# Setup"
   ]
  },
  {
   "cell_type": "code",
   "execution_count": 3,
   "id": "f245797e-954b-4616-b4c1-a036fe2b9e34",
   "metadata": {
    "execution": {
     "iopub.execute_input": "2025-06-05T18:20:51.322455Z",
     "iopub.status.busy": "2025-06-05T18:20:51.322230Z",
     "iopub.status.idle": "2025-06-05T18:20:51.746900Z",
     "shell.execute_reply": "2025-06-05T18:20:51.746197Z",
     "shell.execute_reply.started": "2025-06-05T18:20:51.322437Z"
    }
   },
   "outputs": [],
   "source": [
    "sess = sagemaker.Session()\n",
    "region = sess.boto_region_name\n",
    "container = sagemaker.image_uris.retrieve(region=region, framework=\"linear-learner\")\n",
    "role = sagemaker.get_execution_role()\n",
    "linear = sagemaker.estimator.Estimator(\n",
    "    container,\n",
    "    role,\n",
    "    instance_count=1,\n",
    "    instance_type=\"ml.c4.xlarge\",\n",
    "    output_path=OUTPUT_PATH,\n",
    "    sagemaker_session=sess,\n",
    ")\n",
    "linear.set_hyperparameters(predictor_type=\"regressor\")\n",
    "train_input = sagemaker.inputs.TrainingInput(\n",
    "    TRAIN_PATH,\n",
    "    distribution=\"FullyReplicated\",\n",
    "    content_type=\"text/csv\",\n",
    "    s3_data_type=\"S3Prefix\",\n",
    "    record_wrapping=None,\n",
    "    compression=None,\n",
    ")\n",
    "validation_input = sagemaker.inputs.TrainingInput(\n",
    "    VALIDATION_PATH,\n",
    "    distribution=\"FullyReplicated\",\n",
    "    content_type=\"text/csv\",\n",
    "    s3_data_type=\"S3Prefix\",\n",
    "    record_wrapping=None,\n",
    "    compression=None,\n",
    ")\n",
    "test_input = sagemaker.inputs.TrainingInput(\n",
    "    TEST_PATH,\n",
    "    distribution=\"FullyReplicated\",\n",
    "    content_type=\"text/csv\",\n",
    "    s3_data_type=\"S3Prefix\",\n",
    "    record_wrapping=None,\n",
    "    compression=None,\n",
    ")"
   ]
  },
  {
   "cell_type": "markdown",
   "id": "783866de-ddd1-4636-b99b-29932d5e318e",
   "metadata": {},
   "source": [
    "# Train"
   ]
  },
  {
   "cell_type": "code",
   "execution_count": null,
   "id": "6fb01757-61cc-421a-af1d-75724e2a02ad",
   "metadata": {
    "execution": {
     "iopub.execute_input": "2025-06-05T18:20:51.751078Z",
     "iopub.status.busy": "2025-06-05T18:20:51.750882Z"
    }
   },
   "outputs": [
    {
     "name": "stderr",
     "output_type": "stream",
     "text": [
      "INFO:sagemaker:Creating training-job with name: linear-learner-2025-06-05-18-20-51-753\n"
     ]
    },
    {
     "name": "stdout",
     "output_type": "stream",
     "text": [
      "2025-06-05 18:20:56 Starting - Starting the training job...\n",
      "2025-06-05 18:21:09 Starting - Preparing the instances for training...\n",
      "2025-06-05 18:21:37 Downloading - Downloading input data...\n",
      "2025-06-05 18:22:07 Downloading - Downloading the training image.........\n",
      "2025-06-05 18:23:54 Training - Training image download completed. Training in progress.."
     ]
    }
   ],
   "source": [
    "%%time\n",
    "linear.fit(inputs={\n",
    "    \"train\": train_input,\n",
    "    \"validation\": validation_input,\n",
    "    \"test\": test_input\n",
    "})"
   ]
  },
  {
   "cell_type": "markdown",
   "id": "dbeca36e-35d5-49dd-9785-01bee261a065",
   "metadata": {},
   "source": [
    "# Model Data"
   ]
  },
  {
   "cell_type": "code",
   "execution_count": 6,
   "id": "a1a5af41-ba49-4be8-a93e-9f33859da313",
   "metadata": {
    "execution": {
     "iopub.execute_input": "2025-06-05T18:32:51.686544Z",
     "iopub.status.busy": "2025-06-05T18:32:51.685660Z",
     "iopub.status.idle": "2025-06-05T18:32:51.790161Z",
     "shell.execute_reply": "2025-06-05T18:32:51.789338Z",
     "shell.execute_reply.started": "2025-06-05T18:32:51.686504Z"
    }
   },
   "outputs": [
    {
     "data": {
      "text/plain": [
       "'s3://sagemaker-us-east-1-867344447984/linear-regression/output/linear-learner-2025-06-05-18-20-51-753/output/model.tar.gz'"
      ]
     },
     "execution_count": 6,
     "metadata": {},
     "output_type": "execute_result"
    }
   ],
   "source": [
    "linear.model_data"
   ]
  }
 ],
 "metadata": {
  "kernelspec": {
   "display_name": "Python 3 (ipykernel)",
   "language": "python",
   "name": "python3"
  },
  "language_info": {
   "codemirror_mode": {
    "name": "ipython",
    "version": 3
   },
   "file_extension": ".py",
   "mimetype": "text/x-python",
   "name": "python",
   "nbconvert_exporter": "python",
   "pygments_lexer": "ipython3",
   "version": "3.12.9"
  }
 },
 "nbformat": 4,
 "nbformat_minor": 5
}
