{
 "cells": [
  {
   "cell_type": "markdown",
   "id": "9600813e-cf61-467d-8ec8-d1ad877826b0",
   "metadata": {},
   "source": [
    "# Imports"
   ]
  },
  {
   "cell_type": "code",
   "execution_count": 1,
   "id": "a3999c2f-fa99-475f-ada0-0f6a94bcbcdb",
   "metadata": {
    "execution": {
     "iopub.execute_input": "2025-06-04T00:31:01.101013Z",
     "iopub.status.busy": "2025-06-04T00:31:01.100506Z",
     "iopub.status.idle": "2025-06-04T00:31:01.589726Z",
     "shell.execute_reply": "2025-06-04T00:31:01.588973Z",
     "shell.execute_reply.started": "2025-06-04T00:31:01.100978Z"
    }
   },
   "outputs": [],
   "source": [
    "import boto3\n",
    "import math\n",
    "import pandas as pd\n",
    "from io import StringIO"
   ]
  },
  {
   "cell_type": "markdown",
   "id": "30ba82db-6488-44a9-93c1-eeefdc5bf393",
   "metadata": {},
   "source": [
    "# Constants"
   ]
  },
  {
   "cell_type": "code",
   "execution_count": 2,
   "id": "11d3ff59-b04c-436b-9fe2-36d785f4d6e7",
   "metadata": {
    "execution": {
     "iopub.execute_input": "2025-06-04T00:31:01.594101Z",
     "iopub.status.busy": "2025-06-04T00:31:01.593717Z",
     "iopub.status.idle": "2025-06-04T00:31:01.778610Z",
     "shell.execute_reply": "2025-06-04T00:31:01.777557Z",
     "shell.execute_reply.started": "2025-06-04T00:31:01.594070Z"
    }
   },
   "outputs": [],
   "source": [
    "BUCKET = \"amazon-sagemaker-ai-by-example\"\n",
    "FILE_KEY = 'chicago_taxi_train.csv'\n",
    "S3 = boto3.client(\"s3\")\n",
    "TEST_LOCAL = \"../data/test.csv\"\n",
    "TEST_REMOTE = \"data/test/test.csv\"\n",
    "TRAIN_LOCAL = \"../data/train.csv\"\n",
    "TRAIN_REMOTE = \"data/train/train.csv\"\n",
    "VALIDATION_LOCAL = \"../data/validation.csv\"\n",
    "VALIDATION_REMOTE = \"data/validation/validation.csv\""
   ]
  },
  {
   "cell_type": "markdown",
   "id": "f5bec6ca-d783-4a48-b695-c51ee5f7444d",
   "metadata": {},
   "source": [
    "# Load"
   ]
  },
  {
   "cell_type": "code",
   "execution_count": 3,
   "id": "f96a9a29-9456-4ab7-b049-f26560d635bb",
   "metadata": {
    "execution": {
     "iopub.execute_input": "2025-06-04T00:31:01.783583Z",
     "iopub.status.busy": "2025-06-04T00:31:01.783223Z",
     "iopub.status.idle": "2025-06-04T00:31:02.158043Z",
     "shell.execute_reply": "2025-06-04T00:31:02.156797Z",
     "shell.execute_reply.started": "2025-06-04T00:31:01.783549Z"
    }
   },
   "outputs": [],
   "source": [
    "def read_csv_from_s3(bucket_name, file_key):\n",
    "    try:\n",
    "        s3_client = boto3.client(\"s3\")\n",
    "        response = s3_client.get_object(Bucket=bucket_name, Key=file_key)\n",
    "        csv_content = response[\"Body\"].read().decode(\"utf-8\")\n",
    "        df = pd.read_csv(StringIO(csv_content))\n",
    "        return df\n",
    "    except Exception as e:\n",
    "        print(f\"Error reading CSV file from S3: {str(e)}\")\n",
    "        raise\n",
    "\n",
    "\n",
    "working_df = read_csv_from_s3(BUCKET, FILE_KEY)"
   ]
  },
  {
   "cell_type": "markdown",
   "id": "13bde6b8-7d2d-4ea0-97e7-b67ea7e0e89a",
   "metadata": {},
   "source": [
    "# Organize"
   ]
  },
  {
   "cell_type": "code",
   "execution_count": 4,
   "id": "d148f6f9-b58d-4ece-9b8c-2c9f068b2861",
   "metadata": {
    "execution": {
     "iopub.execute_input": "2025-06-04T00:31:02.168482Z",
     "iopub.status.busy": "2025-06-04T00:31:02.167971Z",
     "iopub.status.idle": "2025-06-04T00:31:02.193324Z",
     "shell.execute_reply": "2025-06-04T00:31:02.192356Z",
     "shell.execute_reply.started": "2025-06-04T00:31:02.168448Z"
    }
   },
   "outputs": [
    {
     "data": {
      "text/html": [
       "<div>\n",
       "<style scoped>\n",
       "    .dataframe tbody tr th:only-of-type {\n",
       "        vertical-align: middle;\n",
       "    }\n",
       "\n",
       "    .dataframe tbody tr th {\n",
       "        vertical-align: top;\n",
       "    }\n",
       "\n",
       "    .dataframe thead th {\n",
       "        text-align: right;\n",
       "    }\n",
       "</style>\n",
       "<table border=\"1\" class=\"dataframe\">\n",
       "  <thead>\n",
       "    <tr style=\"text-align: right;\">\n",
       "      <th></th>\n",
       "      <th>FARE</th>\n",
       "      <th>TRIP_MILES</th>\n",
       "      <th>TRIP_MINUTES</th>\n",
       "    </tr>\n",
       "  </thead>\n",
       "  <tbody>\n",
       "    <tr>\n",
       "      <th>0</th>\n",
       "      <td>31.99</td>\n",
       "      <td>2.57</td>\n",
       "      <td>39.016666</td>\n",
       "    </tr>\n",
       "    <tr>\n",
       "      <th>1</th>\n",
       "      <td>9.75</td>\n",
       "      <td>1.18</td>\n",
       "      <td>17.900000</td>\n",
       "    </tr>\n",
       "    <tr>\n",
       "      <th>2</th>\n",
       "      <td>10.25</td>\n",
       "      <td>1.29</td>\n",
       "      <td>19.549999</td>\n",
       "    </tr>\n",
       "    <tr>\n",
       "      <th>3</th>\n",
       "      <td>23.75</td>\n",
       "      <td>3.70</td>\n",
       "      <td>56.000000</td>\n",
       "    </tr>\n",
       "    <tr>\n",
       "      <th>4</th>\n",
       "      <td>10.00</td>\n",
       "      <td>1.15</td>\n",
       "      <td>17.400000</td>\n",
       "    </tr>\n",
       "  </tbody>\n",
       "</table>\n",
       "</div>"
      ],
      "text/plain": [
       "    FARE  TRIP_MILES  TRIP_MINUTES\n",
       "0  31.99        2.57     39.016666\n",
       "1   9.75        1.18     17.900000\n",
       "2  10.25        1.29     19.549999\n",
       "3  23.75        3.70     56.000000\n",
       "4  10.00        1.15     17.400000"
      ]
     },
     "execution_count": 4,
     "metadata": {},
     "output_type": "execute_result"
    }
   ],
   "source": [
    "working_df = working_df.loc[:, ['FARE', 'TRIP_MILES', 'TRIP_SECONDS']]\n",
    "working_df[\"TRIP_MINUTES\"] = working_df[\"TRIP_SECONDS\"] / 60.0\n",
    "working_df.pop(\"TRIP_SECONDS\")\n",
    "working_df[\"FARE\"] = working_df['FARE'].astype('float32')\n",
    "working_df[\"TRIP_MILES\"] = working_df['TRIP_MILES'].astype('float32')\n",
    "working_df[\"TRIP_MINUTES\"] = working_df['TRIP_MINUTES'].astype('float32')\n",
    "working_df.head()"
   ]
  },
  {
   "cell_type": "markdown",
   "id": "3f1a2f20-911a-471b-b4f2-109f6bec06de",
   "metadata": {},
   "source": [
    "# Split"
   ]
  },
  {
   "cell_type": "code",
   "execution_count": 5,
   "id": "d5f94a06-c1c2-4739-878a-b0bddca8e615",
   "metadata": {
    "execution": {
     "iopub.execute_input": "2025-06-04T00:31:52.231158Z",
     "iopub.status.busy": "2025-06-04T00:31:52.230397Z",
     "iopub.status.idle": "2025-06-04T00:31:52.236351Z",
     "shell.execute_reply": "2025-06-04T00:31:52.235591Z",
     "shell.execute_reply.started": "2025-06-04T00:31:52.231119Z"
    }
   },
   "outputs": [
    {
     "name": "stdout",
     "output_type": "stream",
     "text": [
      "train percent of data: 59\n",
      "validation percent of data: 19\n",
      "test percent of data: 20\n"
     ]
    }
   ],
   "source": [
    "length_all = len(working_df)\n",
    "length_train_validation = math.trunc(length_all * 0.8)\n",
    "length_train = math.trunc(length_train_validation * 0.75)\n",
    "end_train = length_train - 1\n",
    "start_validation = length_train\n",
    "end_validation = length_train_validation - 1\n",
    "start_test = length_train_validation\n",
    "train_df = working_df.iloc[:end_train]\n",
    "validation_df = working_df.iloc[start_validation:end_validation]\n",
    "test_df = working_df.iloc[start_test:]\n",
    "print(f\"train percent of data: {math.trunc((len(train_df) / length_all) * 100)}\")\n",
    "print(f\"validation percent of data: {math.trunc((len(validation_df) / length_all) * 100)}\")\n",
    "print(f\"test percent of data: {math.trunc((len(test_df) / length_all) * 100)}\")"
   ]
  },
  {
   "cell_type": "markdown",
   "id": "a848f233-7ca8-4fa5-94f6-58709752b9bf",
   "metadata": {},
   "source": [
    "# Upload"
   ]
  },
  {
   "cell_type": "code",
   "execution_count": 6,
   "id": "9c502cc4-dd5b-4dae-91e0-ef60fecacaa4",
   "metadata": {
    "execution": {
     "iopub.execute_input": "2025-06-04T00:33:28.063595Z",
     "iopub.status.busy": "2025-06-04T00:33:28.063098Z",
     "iopub.status.idle": "2025-06-04T00:33:28.633572Z",
     "shell.execute_reply": "2025-06-04T00:33:28.632898Z",
     "shell.execute_reply.started": "2025-06-04T00:33:28.063551Z"
    }
   },
   "outputs": [],
   "source": [
    "train_df.to_csv(TRAIN_LOCAL, index=False, header=False, columns=[\"FARE\", \"TRIP_MILES\"])\n",
    "validation_df.to_csv(VALIDATION_LOCAL, index=False, header=False, columns=[\"FARE\", \"TRIP_MILES\"])\n",
    "test_df.to_csv(TEST_LOCAL, index=False, header=False, columns=[\"FARE\", \"TRIP_MILES\"])\n",
    "S3.upload_file(TRAIN_LOCAL, BUCKET, TRAIN_REMOTE)\n",
    "S3.upload_file(VALIDATION_LOCAL, BUCKET, VALIDATION_REMOTE)\n",
    "S3.upload_file(TEST_LOCAL, BUCKET, TEST_REMOTE)"
   ]
  }
 ],
 "metadata": {
  "kernelspec": {
   "display_name": "user-env:(linear-regression-revisited)",
   "language": "python",
   "name": "linear-regression-revisited"
  },
  "language_info": {
   "codemirror_mode": {
    "name": "ipython",
    "version": 3
   },
   "file_extension": ".py",
   "mimetype": "text/x-python",
   "name": "python",
   "nbconvert_exporter": "python",
   "pygments_lexer": "ipython3",
   "version": "3.11.11"
  }
 },
 "nbformat": 4,
 "nbformat_minor": 5
}
